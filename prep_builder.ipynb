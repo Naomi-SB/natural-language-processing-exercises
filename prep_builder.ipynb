{
 "cells": [
  {
   "cell_type": "code",
   "execution_count": 56,
   "id": "2556ed67",
   "metadata": {},
   "outputs": [],
   "source": [
    "import pandas as pd\n",
    "import numpy as np\n",
    "import unicodedata\n",
    "import re\n",
    "import nltk\n",
    "from nltk.corpus import stopwords\n",
    "from nltk.tokenize.toktok import ToktokTokenizer\n",
    "import json \n",
    "\n",
    "import acquire\n",
    "\n",
    "import warnings\n",
    "warnings.filterwarnings('ignore')"
   ]
  },
  {
   "cell_type": "markdown",
   "id": "2ac5e437",
   "metadata": {},
   "source": [
    "## 1. function that takes a string and applies some basic text cleaning\n",
    "   - lowercase everything\n",
    "   - normalize unicode\n",
    "   - replace anything not a letter, number, whitespace, or single quote"
   ]
  },
  {
   "cell_type": "code",
   "execution_count": 57,
   "id": "fb3a4f55",
   "metadata": {},
   "outputs": [],
   "source": [
    "def basic_clean(string):\n",
    "    '''this function takes in a string\n",
    "    and makes everything lowercase\n",
    "    normalizes, encodes, decodes\n",
    "    and removes non-alpha-numerics, whitespace, and single quotes\n",
    "    '''\n",
    "    # make everything lowercase\n",
    "    string = string.lower()\n",
    "    \n",
    "    # normalize\n",
    "    string = unicodedata.normalize('NFKD', string).encode('ascii', 'ignore').decode('utf-8')\n",
    "    \n",
    "    # clulnky character removal\n",
    "    string = re.sub('[^a-z0-9\\'\\s]', '', string)\n",
    "    \n",
    "    return string"
   ]
  },
  {
   "cell_type": "code",
   "execution_count": 7,
   "id": "d6c1041c",
   "metadata": {},
   "outputs": [
    {
     "data": {
      "text/plain": [
       "\"paul erdos and george polya were influential hungarian mathematicians who contributed a lot to the field erdos's name contains the hungarian letter 'o' 'o' with double acute accent but is often incorrectly written as erdos or erdos either by mistake or out of typographical necessity\""
      ]
     },
     "execution_count": 7,
     "metadata": {},
     "output_type": "execute_result"
    }
   ],
   "source": [
    "basic_clean(\"Paul Erdős and George Pólya were influential Hungarian mathematicians who contributed \\\n",
    "a lot to the field. Erdős's name contains the Hungarian letter 'ő' ('o' with double acute accent), \\\n",
    "but is often incorrectly written as Erdos or Erdös either by mistake or out of typographical necessity\")"
   ]
  },
  {
   "cell_type": "markdown",
   "id": "6946f0aa",
   "metadata": {},
   "source": [
    "## 2. function named tokenize. It should take in a string and tokenize all the words in the string."
   ]
  },
  {
   "cell_type": "code",
   "execution_count": 53,
   "id": "782c7f12",
   "metadata": {},
   "outputs": [],
   "source": [
    "def tokenize(string, charms = True):\n",
    "    ''' This function takes a string and returns a tokenizes version.\n",
    "    If set to false, returns a list of tokenized strings'''\n",
    "    \n",
    "    # create tokenize object\n",
    "    tokenize = nltk.tokenize.ToktokTokenizer()\n",
    "    # apply the tokenizer to the string\n",
    "    string = tokenize.tokenize(string, return_str = charms)\n",
    "    return string"
   ]
  },
  {
   "cell_type": "code",
   "execution_count": 54,
   "id": "155e7b0b",
   "metadata": {},
   "outputs": [
    {
     "data": {
      "text/plain": [
       "\"Paul Erdős and George Pólya were influential Hungarian mathematicians who contributed a lot to the field. Erdős ' s name contains the Hungarian letter ' ő ' ( ' o ' with double acute accent ) , but is often incorrectly written as Erdos or Erdös either by mistake or out of typographical necessity\""
      ]
     },
     "execution_count": 54,
     "metadata": {},
     "output_type": "execute_result"
    }
   ],
   "source": [
    "tokenize(\"Paul Erdős and George Pólya were influential Hungarian mathematicians who contributed \\\n",
    "a lot to the field. Erdős's name contains the Hungarian letter 'ő' ('o' with double acute accent), \\\n",
    "but is often incorrectly written as Erdos or Erdös either by mistake or out of typographical necessity\")"
   ]
  },
  {
   "cell_type": "code",
   "execution_count": 55,
   "id": "7e85a821",
   "metadata": {},
   "outputs": [
    {
     "data": {
      "text/plain": [
       "['Paul',\n",
       " 'Erdős',\n",
       " 'and',\n",
       " 'George',\n",
       " 'Pólya',\n",
       " 'were',\n",
       " 'influential',\n",
       " 'Hungarian',\n",
       " 'mathematicians',\n",
       " 'who',\n",
       " 'contributed',\n",
       " 'a',\n",
       " 'lot',\n",
       " 'to',\n",
       " 'the',\n",
       " 'field.',\n",
       " 'Erdős',\n",
       " \"'\",\n",
       " 's',\n",
       " 'name',\n",
       " 'contains',\n",
       " 'the',\n",
       " 'Hungarian',\n",
       " 'letter',\n",
       " \"'\",\n",
       " 'ő',\n",
       " \"'\",\n",
       " '(',\n",
       " \"'\",\n",
       " 'o',\n",
       " \"'\",\n",
       " 'with',\n",
       " 'double',\n",
       " 'acute',\n",
       " 'accent',\n",
       " ')',\n",
       " ',',\n",
       " 'but',\n",
       " 'is',\n",
       " 'often',\n",
       " 'incorrectly',\n",
       " 'written',\n",
       " 'as',\n",
       " 'Erdos',\n",
       " 'or']"
      ]
     },
     "execution_count": 55,
     "metadata": {},
     "output_type": "execute_result"
    }
   ],
   "source": [
    "tokenize(\"Paul Erdős and George Pólya were influential Hungarian mathematicians who contributed \\\n",
    "a lot to the field. Erdős's name contains the Hungarian letter 'ő' ('o' with double acute accent), \\\n",
    "but is often incorrectly written as Erdos or \", False)"
   ]
  },
  {
   "cell_type": "markdown",
   "id": "a0827105",
   "metadata": {},
   "source": [
    "## 3. function named stem. It should accept some text and return the text after applying stemming to all the words."
   ]
  },
  {
   "cell_type": "code",
   "execution_count": 16,
   "id": "07d61f67",
   "metadata": {},
   "outputs": [],
   "source": [
    "def stem(string):\n",
    "    '''\n",
    "    This function takes a string and \n",
    "    returns a string of words stemmed. '''\n",
    "    \n",
    "    ps = nltk.porter.PorterStemmer()\n",
    "    \n",
    "    stems = [ps.stem(word) for word in string.split()]\n",
    "    stems = ' '.join(stems)\n",
    "    \n",
    "    return stems"
   ]
  },
  {
   "cell_type": "code",
   "execution_count": 17,
   "id": "8a52f62c",
   "metadata": {},
   "outputs": [
    {
     "data": {
      "text/plain": [
       "\"paul erdő and georg pólya were influenti hungarian mathematician who contribut a lot to the field. erdős' name contain the hungarian letter 'ő' ('o' with doubl acut accent), but is often incorrectli written as erdo or erdö either by mistak or out of typograph necess\""
      ]
     },
     "execution_count": 17,
     "metadata": {},
     "output_type": "execute_result"
    }
   ],
   "source": [
    "stem(\"Paul Erdős and George Pólya were influential Hungarian mathematicians who contributed \\\n",
    "a lot to the field. Erdős's name contains the Hungarian letter 'ő' ('o' with double acute accent), \\\n",
    "but is often incorrectly written as Erdos or Erdös either by mistake or out of typographical necessity\")"
   ]
  },
  {
   "cell_type": "code",
   "execution_count": 14,
   "id": "a9eae603",
   "metadata": {},
   "outputs": [],
   "source": [
    "def stem_tall(string):\n",
    "    \n",
    "    ps = nltk.porter.PorterStemmer()\n",
    "    \n",
    "    stems = [ps.stem(word) for word in string.split()]\n",
    "    \n",
    "    return stems"
   ]
  },
  {
   "cell_type": "code",
   "execution_count": 58,
   "id": "2b5fa211",
   "metadata": {},
   "outputs": [
    {
     "data": {
      "text/plain": [
       "['paul',\n",
       " 'erdő',\n",
       " 'and',\n",
       " 'georg',\n",
       " 'pólya',\n",
       " 'were',\n",
       " 'influenti',\n",
       " 'hungarian',\n",
       " 'mathematician',\n",
       " 'who',\n",
       " 'contribut',\n",
       " 'a',\n",
       " 'lot',\n",
       " 'to',\n",
       " 'the',\n",
       " 'field.',\n",
       " 'erdőss',\n",
       " 'name',\n",
       " 'contain',\n",
       " 'the',\n",
       " 'hungarian',\n",
       " 'letter',\n",
       " \"'ő'\",\n",
       " \"('o'\",\n",
       " 'with',\n",
       " 'doubl',\n",
       " 'acut',\n",
       " 'accent),',\n",
       " 'but',\n",
       " 'is',\n",
       " 'often',\n",
       " 'incorrectli',\n",
       " 'written',\n",
       " 'as',\n",
       " 'erdo',\n",
       " 'or',\n",
       " 'erdö',\n",
       " 'either',\n",
       " 'by',\n",
       " 'mistak',\n",
       " 'or',\n",
       " 'out',\n",
       " 'of',\n",
       " 'typograph',\n",
       " 'necess']"
      ]
     },
     "execution_count": 58,
     "metadata": {},
     "output_type": "execute_result"
    }
   ],
   "source": [
    "stem_tall(\"Paul Erdős and George Pólya were influential Hungarian mathematicians who contributed \\\n",
    "a lot to the field. Erdőss name contains the Hungarian letter 'ő' ('o' with double acute accent), \\\n",
    "but is often incorrectly written as Erdos or Erdös either by mistake or out of typographical necessity\")"
   ]
  },
  {
   "cell_type": "markdown",
   "id": "0a2a8d5a",
   "metadata": {},
   "source": [
    "## 4. lemmatize. It should accept some text and return the text after applying lemmatization to each word."
   ]
  },
  {
   "cell_type": "code",
   "execution_count": 22,
   "id": "06a666aa",
   "metadata": {},
   "outputs": [],
   "source": [
    "def lemmatize(string):\n",
    "      '''\n",
    "    This function takes a string and \n",
    "    returns a string of words lemmatized. '''\n",
    "    wnl = nltk.stem.WordNetLemmatizer()\n",
    "\n",
    "    lemmas = [wnl.lemmatize(word) for word in string.split()]\n",
    "    lemmas = ' '.join(lemmas)\n",
    "    \n",
    "    return lemmas"
   ]
  },
  {
   "cell_type": "code",
   "execution_count": 23,
   "id": "d82969a4",
   "metadata": {},
   "outputs": [],
   "source": [
    "def lemmatize_tall(string):\n",
    "    wnl = nltk.stem.WordNetLemmatizer()\n",
    "    lemmas = [wnl.lemmatize(word) for word in string.split()]\n",
    "\n",
    "    return lemmas"
   ]
  },
  {
   "cell_type": "code",
   "execution_count": 24,
   "id": "dd45e0f7",
   "metadata": {},
   "outputs": [
    {
     "data": {
      "text/plain": [
       "\"Paul Erdős and George Pólya were influential Hungarian mathematician who contributed a lot to the field. Erdős's name contains the Hungarian letter 'ő' ('o' with double acute accent), but is often incorrectly written a Erdos or Erdös either by mistake or out of typographical necessity\""
      ]
     },
     "execution_count": 24,
     "metadata": {},
     "output_type": "execute_result"
    }
   ],
   "source": [
    "lemmatize(\"Paul Erdős and George Pólya were influential Hungarian mathematicians who contributed \\\n",
    "a lot to the field. Erdős's name contains the Hungarian letter 'ő' ('o' with double acute accent), \\\n",
    "but is often incorrectly written as Erdos or Erdös either by mistake or out of typographical necessity\")"
   ]
  },
  {
   "cell_type": "code",
   "execution_count": 25,
   "id": "c39afc9e",
   "metadata": {},
   "outputs": [
    {
     "data": {
      "text/plain": [
       "['Paul',\n",
       " 'Erdős',\n",
       " 'and',\n",
       " 'George',\n",
       " 'Pólya',\n",
       " 'were',\n",
       " 'influential',\n",
       " 'Hungarian',\n",
       " 'mathematician',\n",
       " 'who',\n",
       " 'contributed',\n",
       " 'a',\n",
       " 'lot',\n",
       " 'to',\n",
       " 'the',\n",
       " 'field.',\n",
       " \"Erdős's\",\n",
       " 'name',\n",
       " 'contains',\n",
       " 'the',\n",
       " 'Hungarian',\n",
       " 'letter',\n",
       " \"'ő'\",\n",
       " \"('o'\",\n",
       " 'with',\n",
       " 'double',\n",
       " 'acute',\n",
       " 'accent),',\n",
       " 'but',\n",
       " 'is',\n",
       " 'often',\n",
       " 'incorrectly',\n",
       " 'written',\n",
       " 'a',\n",
       " 'Erdos',\n",
       " 'or',\n",
       " 'Erdös',\n",
       " 'either',\n",
       " 'by',\n",
       " 'mistake',\n",
       " 'or',\n",
       " 'out',\n",
       " 'of',\n",
       " 'typographical',\n",
       " 'necessity']"
      ]
     },
     "execution_count": 25,
     "metadata": {},
     "output_type": "execute_result"
    }
   ],
   "source": [
    "lemmatize_tall(\"Paul Erdős and George Pólya were influential Hungarian mathematicians who contributed \\\n",
    "a lot to the field. Erdős's name contains the Hungarian letter 'ő' ('o' with double acute accent), \\\n",
    "but is often incorrectly written as Erdos or Erdös either by mistake or out of typographical necessity\")"
   ]
  },
  {
   "cell_type": "markdown",
   "id": "9ca5dbac",
   "metadata": {},
   "source": [
    "## 5. function named remove_stopwords. It should accept some text and return the text after removing all the stopwords.\n",
    "## *get assistance for parameters*"
   ]
  },
  {
   "cell_type": "code",
   "execution_count": 33,
   "id": "4412e4b6",
   "metadata": {},
   "outputs": [],
   "source": [
    "def remove_stopwords(text, extra_words = [], exclude_words = []):\n",
    "    ''' This function takes in text and removes the \n",
    "    standard english stopwords from it and returns a \n",
    "    list of stringsa'''\n",
    "    \n",
    "    # for english stopwords\n",
    "    sw = stopwords.words('english')\n",
    "    \n",
    "    text = [word for word in text.split() if word not in sw]\n",
    "    \n",
    "    return text"
   ]
  },
  {
   "cell_type": "code",
   "execution_count": 34,
   "id": "eacbecca",
   "metadata": {},
   "outputs": [
    {
     "data": {
      "text/plain": [
       "['Paul',\n",
       " 'Erdős',\n",
       " 'George',\n",
       " 'Pólya',\n",
       " 'influential',\n",
       " 'Hungarian',\n",
       " 'mathematicians',\n",
       " 'contributed',\n",
       " 'lot',\n",
       " 'field.',\n",
       " \"Erdős's\",\n",
       " 'name',\n",
       " 'contains',\n",
       " 'Hungarian',\n",
       " 'letter',\n",
       " \"'ő'\",\n",
       " \"('o'\",\n",
       " 'double',\n",
       " 'acute',\n",
       " 'accent),',\n",
       " 'often',\n",
       " 'incorrectly',\n",
       " 'written',\n",
       " 'Erdos',\n",
       " 'Erdös',\n",
       " 'either',\n",
       " 'mistake',\n",
       " 'typographical',\n",
       " 'necessity']"
      ]
     },
     "execution_count": 34,
     "metadata": {},
     "output_type": "execute_result"
    }
   ],
   "source": [
    "remove_stopwords(\"Paul Erdős and George Pólya were influential Hungarian mathematicians who contributed \\\n",
    "a lot to the field. Erdős's name contains the Hungarian letter 'ő' ('o' with double acute accent), \\\n",
    "but is often incorrectly written as Erdos or Erdös either by mistake or out of typographical necessity\")"
   ]
  },
  {
   "cell_type": "markdown",
   "id": "b7d682ed",
   "metadata": {},
   "source": [
    "## 6. news_df using acquire file"
   ]
  },
  {
   "cell_type": "code",
   "execution_count": 30,
   "id": "7c70cf6e",
   "metadata": {},
   "outputs": [
    {
     "data": {
      "text/html": [
       "<div>\n",
       "<style scoped>\n",
       "    .dataframe tbody tr th:only-of-type {\n",
       "        vertical-align: middle;\n",
       "    }\n",
       "\n",
       "    .dataframe tbody tr th {\n",
       "        vertical-align: top;\n",
       "    }\n",
       "\n",
       "    .dataframe thead th {\n",
       "        text-align: right;\n",
       "    }\n",
       "</style>\n",
       "<table border=\"1\" class=\"dataframe\">\n",
       "  <thead>\n",
       "    <tr style=\"text-align: right;\">\n",
       "      <th></th>\n",
       "      <th>title</th>\n",
       "      <th>content</th>\n",
       "      <th>category</th>\n",
       "    </tr>\n",
       "  </thead>\n",
       "  <tbody>\n",
       "    <tr>\n",
       "      <th>0</th>\n",
       "      <td>[Drunk man smoked in toilet, another peed on w...</td>\n",
       "      <td>[A drunk passenger smoked in the toilet on a P...</td>\n",
       "      <td>business</td>\n",
       "    </tr>\n",
       "    <tr>\n",
       "      <th>1</th>\n",
       "      <td>[Kohli shares pic with Anushka, daughter walki...</td>\n",
       "      <td>[Virat Kohli took to social media to share a p...</td>\n",
       "      <td>sports</td>\n",
       "    </tr>\n",
       "    <tr>\n",
       "      <th>2</th>\n",
       "      <td>[Musk enters Guinness World Records for the la...</td>\n",
       "      <td>[Elon Musk has officially broken the world rec...</td>\n",
       "      <td>technology</td>\n",
       "    </tr>\n",
       "    <tr>\n",
       "      <th>3</th>\n",
       "      <td>[Old pics of Shah Rukh Khan and Angelina Jolie...</td>\n",
       "      <td>[Old pictures of actors Shah Rukh Khan and Ang...</td>\n",
       "      <td>entertainment</td>\n",
       "    </tr>\n",
       "  </tbody>\n",
       "</table>\n",
       "</div>"
      ],
      "text/plain": [
       "                                               title  \\\n",
       "0  [Drunk man smoked in toilet, another peed on w...   \n",
       "1  [Kohli shares pic with Anushka, daughter walki...   \n",
       "2  [Musk enters Guinness World Records for the la...   \n",
       "3  [Old pics of Shah Rukh Khan and Angelina Jolie...   \n",
       "\n",
       "                                             content       category  \n",
       "0  [A drunk passenger smoked in the toilet on a P...       business  \n",
       "1  [Virat Kohli took to social media to share a p...         sports  \n",
       "2  [Elon Musk has officially broken the world rec...     technology  \n",
       "3  [Old pictures of actors Shah Rukh Khan and Ang...  entertainment  "
      ]
     },
     "execution_count": 30,
     "metadata": {},
     "output_type": "execute_result"
    }
   ],
   "source": [
    "news_df = acquire.get_news_articles()\n",
    "news_df"
   ]
  },
  {
   "cell_type": "markdown",
   "id": "14794fee",
   "metadata": {},
   "source": [
    "## 7. codeup_df using acquire file"
   ]
  },
  {
   "cell_type": "code",
   "execution_count": 32,
   "id": "53cf2a6c",
   "metadata": {},
   "outputs": [
    {
     "name": "stderr",
     "output_type": "stream",
     "text": [
      "/Users/naomi-sweatt/codeup-data-science/natural-language-processing-exercises/acquire.py:24: GuessedAtParserWarning: No parser was explicitly specified, so I'm using the best available HTML parser for this system (\"lxml\"). This usually isn't a problem, but if you run this code on another system, or in a different virtual environment, it may use a different parser and behave differently.\n",
      "\n",
      "The code that caused this warning is on line 24 of the file /Users/naomi-sweatt/codeup-data-science/natural-language-processing-exercises/acquire.py. To get rid of this warning, pass the additional argument 'features=\"lxml\"' to the BeautifulSoup constructor.\n",
      "\n",
      "  codeup_soup = BeautifulSoup(url_response.text)\n"
     ]
    },
    {
     "data": {
      "text/html": [
       "<div>\n",
       "<style scoped>\n",
       "    .dataframe tbody tr th:only-of-type {\n",
       "        vertical-align: middle;\n",
       "    }\n",
       "\n",
       "    .dataframe tbody tr th {\n",
       "        vertical-align: top;\n",
       "    }\n",
       "\n",
       "    .dataframe thead th {\n",
       "        text-align: right;\n",
       "    }\n",
       "</style>\n",
       "<table border=\"1\" class=\"dataframe\">\n",
       "  <thead>\n",
       "    <tr style=\"text-align: right;\">\n",
       "      <th></th>\n",
       "      <th>title</th>\n",
       "      <th>content</th>\n",
       "    </tr>\n",
       "  </thead>\n",
       "  <tbody>\n",
       "    <tr>\n",
       "      <th>0</th>\n",
       "      <td>Become a Data Scientist in 6 Months!</td>\n",
       "      <td>\\nAre you feeling unfulfilled in your work but...</td>\n",
       "    </tr>\n",
       "    <tr>\n",
       "      <th>1</th>\n",
       "      <td>Hiring Tech Talent Around the Holidays</td>\n",
       "      <td>\\nAre you a hiring manager having trouble fill...</td>\n",
       "    </tr>\n",
       "    <tr>\n",
       "      <th>2</th>\n",
       "      <td>Cloud Administration Program New Funding Options</td>\n",
       "      <td>\\nFinding resources to fund your educational g...</td>\n",
       "    </tr>\n",
       "    <tr>\n",
       "      <th>3</th>\n",
       "      <td>Why Dallas is a Great Location for IT Professi...</td>\n",
       "      <td>\\nWhen breaking into a new career, it is impor...</td>\n",
       "    </tr>\n",
       "    <tr>\n",
       "      <th>4</th>\n",
       "      <td>Codeup is ranked #1 Best in DFW 2022</td>\n",
       "      <td>\\nWe are excited to announce that Codeup ranke...</td>\n",
       "    </tr>\n",
       "    <tr>\n",
       "      <th>5</th>\n",
       "      <td>Codeup’s Scholarship Offerings</td>\n",
       "      <td>\\nIn honor of November being National Scholars...</td>\n",
       "    </tr>\n",
       "  </tbody>\n",
       "</table>\n",
       "</div>"
      ],
      "text/plain": [
       "                                               title  \\\n",
       "0               Become a Data Scientist in 6 Months!   \n",
       "1             Hiring Tech Talent Around the Holidays   \n",
       "2   Cloud Administration Program New Funding Options   \n",
       "3  Why Dallas is a Great Location for IT Professi...   \n",
       "4               Codeup is ranked #1 Best in DFW 2022   \n",
       "5                     Codeup’s Scholarship Offerings   \n",
       "\n",
       "                                             content  \n",
       "0  \\nAre you feeling unfulfilled in your work but...  \n",
       "1  \\nAre you a hiring manager having trouble fill...  \n",
       "2  \\nFinding resources to fund your educational g...  \n",
       "3  \\nWhen breaking into a new career, it is impor...  \n",
       "4  \\nWe are excited to announce that Codeup ranke...  \n",
       "5  \\nIn honor of November being National Scholars...  "
      ]
     },
     "execution_count": 32,
     "metadata": {},
     "output_type": "execute_result"
    }
   ],
   "source": [
    "codeup_df = acquire.get_blog_articles()\n",
    "codeup_df"
   ]
  },
  {
   "cell_type": "markdown",
   "id": "53a13d41",
   "metadata": {},
   "source": [
    "## 8. adding columns for each df\n",
    "### *big honkin function alert*"
   ]
  },
  {
   "cell_type": "code",
   "execution_count": null,
   "id": "1557b79f",
   "metadata": {},
   "outputs": [],
   "source": [
    "def df_modifier(df):\n",
    "    df['original'] = df.content"
   ]
  },
  {
   "cell_type": "code",
   "execution_count": 59,
   "id": "e65e805c",
   "metadata": {},
   "outputs": [],
   "source": [
    "#df['some_column'] = df['old_col'].apply(some_function)"
   ]
  },
  {
   "cell_type": "markdown",
   "id": "1d3f200e",
   "metadata": {},
   "source": [
    "## 9. ask yourself\n",
    " * 493KB: lemm\n",
    " * 25MB: lemm\n",
    " * 200TB: "
   ]
  }
 ],
 "metadata": {
  "kernelspec": {
   "display_name": "Python 3 (ipykernel)",
   "language": "python",
   "name": "python3"
  },
  "language_info": {
   "codemirror_mode": {
    "name": "ipython",
    "version": 3
   },
   "file_extension": ".py",
   "mimetype": "text/x-python",
   "name": "python",
   "nbconvert_exporter": "python",
   "pygments_lexer": "ipython3",
   "version": "3.9.12"
  }
 },
 "nbformat": 4,
 "nbformat_minor": 5
}
