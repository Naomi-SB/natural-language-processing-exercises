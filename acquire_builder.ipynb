{
 "cells": [
  {
   "cell_type": "markdown",
   "id": "88eec6ef",
   "metadata": {},
   "source": [
    "## Codeup Blog Articles\n",
    "### Visit Codeup's Blog and record the urls for at least 5 distinct blog posts. For each post, you should scrape at least the post's title and content.\n",
    "### Encapsulate your work in a function named get_blog_articles that will return a list of dictionaries, with each dictionary representing one article. The shape of each dictionary should look like this:"
   ]
  },
  {
   "cell_type": "markdown",
   "id": "9415a979",
   "metadata": {},
   "source": [
    " ```\n",
    " {\n",
    "    'title': 'the title of the article',\n",
    "    'content': 'the full text content of the article'\n",
    "}\n",
    "```"
   ]
  },
  {
   "cell_type": "code",
   "execution_count": 1,
   "id": "7491ea0b",
   "metadata": {},
   "outputs": [],
   "source": [
    "from bs4 import BeautifulSoup\n",
    "import requests\n",
    "import os\n",
    "import pandas as pd\n"
   ]
  },
  {
   "cell_type": "code",
   "execution_count": null,
   "id": "79ac404c",
   "metadata": {},
   "outputs": [],
   "source": [
    "url = 'https://codeup.com/blog/'"
   ]
  },
  {
   "cell_type": "code",
   "execution_count": null,
   "id": "9ddfebcc",
   "metadata": {},
   "outputs": [],
   "source": [
    "headers = {'User-Agent': 'Codeup Data Science'}\n",
    "response = requests.get(url, headers=headers)\n",
    "response"
   ]
  },
  {
   "cell_type": "code",
   "execution_count": null,
   "id": "0d7149ce",
   "metadata": {},
   "outputs": [],
   "source": [
    "codeup_soup = BeautifulSoup(response.content, 'html.parser')\n",
    "codeup_soup"
   ]
  },
  {
   "cell_type": "code",
   "execution_count": null,
   "id": "3ee23b7e",
   "metadata": {},
   "outputs": [],
   "source": [
    "codeup_soup.find_all('a')"
   ]
  },
  {
   "cell_type": "code",
   "execution_count": null,
   "id": "e848d2d5",
   "metadata": {},
   "outputs": [],
   "source": [
    "url1 = 'https://codeup.com/data-science/become-a-data-scientist/'\n",
    "url2 = 'https://codeup.com/employers/hiring-tech-talent/'\n",
    "url3 = 'https://codeup.com/cloud-administration/cap-funding-options/'\n",
    "url4 = 'https://codeup.com/dallas-info/it-professionals-dallas/'\n",
    "url5 = 'https://codeup.com/codeup-news/codeup-voted-1-technical-school-in-dfw/'\n",
    "url6 = 'https://codeup.com/tips-for-prospective-students/financing/codeups-scholarships/'"
   ]
  },
  {
   "cell_type": "markdown",
   "id": "22c96834",
   "metadata": {},
   "source": [
    "## Long-hand"
   ]
  },
  {
   "cell_type": "code",
   "execution_count": null,
   "id": "7913bd0b",
   "metadata": {},
   "outputs": [],
   "source": [
    "response1 = requests.get(url1, headers=headers)\n",
    "response1"
   ]
  },
  {
   "cell_type": "code",
   "execution_count": null,
   "id": "1094818d",
   "metadata": {},
   "outputs": [],
   "source": [
    "url1_soup = BeautifulSoup(response1.content, 'html.parser')\n",
    "url1_soup"
   ]
  },
  {
   "cell_type": "code",
   "execution_count": null,
   "id": "d818ea90",
   "metadata": {},
   "outputs": [],
   "source": [
    "# fetch title\n",
    "\n",
    "url1_soup.h1"
   ]
  },
  {
   "cell_type": "code",
   "execution_count": null,
   "id": "a453a531",
   "metadata": {},
   "outputs": [],
   "source": [
    "# label title\n",
    "title_1 = url1_soup.h1"
   ]
  },
  {
   "cell_type": "code",
   "execution_count": null,
   "id": "24debdbf",
   "metadata": {},
   "outputs": [],
   "source": [
    "# fetch content\n",
    "\n"
   ]
  },
  {
   "cell_type": "code",
   "execution_count": null,
   "id": "a9205673",
   "metadata": {},
   "outputs": [],
   "source": [
    "# label content\n",
    "content_1 = url1_soup.find_all('p')"
   ]
  },
  {
   "cell_type": "code",
   "execution_count": null,
   "id": "beee777f",
   "metadata": {},
   "outputs": [],
   "source": [
    "url1_soup.text"
   ]
  },
  {
   "cell_type": "code",
   "execution_count": null,
   "id": "9107e51d",
   "metadata": {},
   "outputs": [],
   "source": [
    "url1_content = url1_soup.find('a', class_ = 'entry-content')\n",
    "url1_content"
   ]
  },
  {
   "cell_type": "markdown",
   "id": "95ba9785",
   "metadata": {},
   "source": [
    "# SOUP data aquisition exercises"
   ]
  },
  {
   "cell_type": "markdown",
   "id": "dc86a9bb",
   "metadata": {},
   "source": [
    "### Codeup Blog"
   ]
  },
  {
   "cell_type": "code",
   "execution_count": null,
   "id": "8aecdc23",
   "metadata": {},
   "outputs": [],
   "source": [
    "# using list comprehension\n",
    "# webpage so this loops through the articles that have the read more\n",
    "codeup_soup.select('.more-link')"
   ]
  },
  {
   "cell_type": "code",
   "execution_count": null,
   "id": "93bea0d5",
   "metadata": {},
   "outputs": [],
   "source": [
    "codeup_soup.select('.more-link')[0]['href']"
   ]
  },
  {
   "cell_type": "code",
   "execution_count": null,
   "id": "b9ad6412",
   "metadata": {},
   "outputs": [],
   "source": [
    "a_links = [link['href'] for link in codeup_soup.select('.more-link')]\n",
    "a_links"
   ]
  },
  {
   "cell_type": "code",
   "execution_count": 8,
   "id": "601e2858",
   "metadata": {},
   "outputs": [],
   "source": [
    "def get_blog_articles():    \n",
    "    '''Naomi is doing her best here'''\n",
    "    \n",
    "    url = 'https://codeup.com/blog/'\n",
    "    headers = {'User-Agent': 'Codeup Data Science'}\n",
    "    response = requests.get(url, headers=headers)\n",
    "    \n",
    "    codeup_soup = BeautifulSoup(response.content, 'html.parser')\n",
    "    \n",
    "    #a_links = [link['href'] for link in codeup_soup.select('.more-link')]\n",
    "    links = [link['href'] for link in codeup_soup.select('.more-link')]\n",
    "\n",
    "    articles = []\n",
    "    \n",
    "    for url in links:\n",
    "        \n",
    "        url_response = requests.get(url, headers = headers)\n",
    "        codeup_soup = BeautifulSoup(url_response.text)\n",
    "        \n",
    "        title_text = codeup_soup.find('h1', class_ = 'entry-title').text\n",
    "        content_text = codeup_soup.find('div', class_ = 'entry-content').text\n",
    "        \n",
    "        dict_ = {\n",
    "            'title': title_text,\n",
    "            'content': content_text\n",
    "        }\n",
    "\n",
    "        articles.append(dict_)\n",
    "    \n",
    "    codeup_blog_article_df = pd.DataFrame(articles)    \n",
    "    \n",
    "    return codeup_blog_article_df\n"
   ]
  },
  {
   "cell_type": "code",
   "execution_count": 9,
   "id": "da873ccd",
   "metadata": {},
   "outputs": [
    {
     "data": {
      "text/html": [
       "<div>\n",
       "<style scoped>\n",
       "    .dataframe tbody tr th:only-of-type {\n",
       "        vertical-align: middle;\n",
       "    }\n",
       "\n",
       "    .dataframe tbody tr th {\n",
       "        vertical-align: top;\n",
       "    }\n",
       "\n",
       "    .dataframe thead th {\n",
       "        text-align: right;\n",
       "    }\n",
       "</style>\n",
       "<table border=\"1\" class=\"dataframe\">\n",
       "  <thead>\n",
       "    <tr style=\"text-align: right;\">\n",
       "      <th></th>\n",
       "      <th>title</th>\n",
       "      <th>content</th>\n",
       "    </tr>\n",
       "  </thead>\n",
       "  <tbody>\n",
       "    <tr>\n",
       "      <th>0</th>\n",
       "      <td>Become a Data Scientist in 6 Months!</td>\n",
       "      <td>\\nAre you feeling unfulfilled in your work but...</td>\n",
       "    </tr>\n",
       "    <tr>\n",
       "      <th>1</th>\n",
       "      <td>Hiring Tech Talent Around the Holidays</td>\n",
       "      <td>\\nAre you a hiring manager having trouble fill...</td>\n",
       "    </tr>\n",
       "    <tr>\n",
       "      <th>2</th>\n",
       "      <td>Cloud Administration Program New Funding Options</td>\n",
       "      <td>\\nFinding resources to fund your educational g...</td>\n",
       "    </tr>\n",
       "    <tr>\n",
       "      <th>3</th>\n",
       "      <td>Why Dallas is a Great Location for IT Professi...</td>\n",
       "      <td>\\nWhen breaking into a new career, it is impor...</td>\n",
       "    </tr>\n",
       "    <tr>\n",
       "      <th>4</th>\n",
       "      <td>Codeup is ranked #1 Best in DFW 2022</td>\n",
       "      <td>\\nWe are excited to announce that Codeup ranke...</td>\n",
       "    </tr>\n",
       "    <tr>\n",
       "      <th>5</th>\n",
       "      <td>Codeup’s Scholarship Offerings</td>\n",
       "      <td>\\nIn honor of November being National Scholars...</td>\n",
       "    </tr>\n",
       "  </tbody>\n",
       "</table>\n",
       "</div>"
      ],
      "text/plain": [
       "                                               title  \\\n",
       "0               Become a Data Scientist in 6 Months!   \n",
       "1             Hiring Tech Talent Around the Holidays   \n",
       "2   Cloud Administration Program New Funding Options   \n",
       "3  Why Dallas is a Great Location for IT Professi...   \n",
       "4               Codeup is ranked #1 Best in DFW 2022   \n",
       "5                     Codeup’s Scholarship Offerings   \n",
       "\n",
       "                                             content  \n",
       "0  \\nAre you feeling unfulfilled in your work but...  \n",
       "1  \\nAre you a hiring manager having trouble fill...  \n",
       "2  \\nFinding resources to fund your educational g...  \n",
       "3  \\nWhen breaking into a new career, it is impor...  \n",
       "4  \\nWe are excited to announce that Codeup ranke...  \n",
       "5  \\nIn honor of November being National Scholars...  "
      ]
     },
     "execution_count": 9,
     "metadata": {},
     "output_type": "execute_result"
    }
   ],
   "source": [
    "get_blog_articles()"
   ]
  },
  {
   "cell_type": "code",
   "execution_count": null,
   "id": "c4033be9",
   "metadata": {},
   "outputs": [],
   "source": [
    "def function_test():\n",
    "    url = 'https://codeup.com/blog/'\n",
    "    headers = {'User-Agent': 'Codeup Data Science'}\n",
    "    response = requests.get(url, headers=headers)\n",
    "\n",
    "    soup = BeautifulSoup(response.content, 'html.parser')\n",
    "\n",
    "    links = [link['href'] for link in soup.select('.more-link')]\n",
    "\n",
    "    articles = []\n",
    "\n",
    "    for url in links:\n",
    "\n",
    "        url_response = requests.get(url, headers=headers)\n",
    "        soup = BeautifulSoup(url_response.text)\n",
    "\n",
    "        title = soup.find('h1', class_='entry-title').text\n",
    "        content = soup.find('div', class_='entry-content').text.strip()\n",
    "\n",
    "        article_dict = {\n",
    "            'title': title,\n",
    "            'content': content\n",
    "        }\n",
    "\n",
    "        articles.append(article_dict)\n",
    "\n",
    "    blog_article_df = pd.DataFrame(articles)\n",
    "    return blog_article_df\n",
    "    "
   ]
  },
  {
   "cell_type": "code",
   "execution_count": null,
   "id": "64f7766c",
   "metadata": {},
   "outputs": [],
   "source": [
    "function_test()"
   ]
  },
  {
   "cell_type": "markdown",
   "id": "0d3e5add",
   "metadata": {},
   "source": [
    "### News Articles"
   ]
  },
  {
   "cell_type": "code",
   "execution_count": 11,
   "id": "75fdea34",
   "metadata": {},
   "outputs": [],
   "source": [
    "url = 'https://inshorts.com/en/read'\n",
    "response = requests.get(url)\n",
    "soup = BeautifulSoup(response.content, 'html.parser')"
   ]
  },
  {
   "cell_type": "code",
   "execution_count": 20,
   "id": "5f34b085",
   "metadata": {},
   "outputs": [],
   "source": [
    "# list comprehension to assemble\n",
    "# this is for the articles in the categories specified\n",
    "\n",
    "def get_news_articles():\n",
    "    \n",
    "    # this is for the articles in the categories specified in curriculum\n",
    "    categories = ['business', 'sports', 'technology', 'entertainment']\n",
    "    \n",
    "    #these 2 lines are for all categories on the website\n",
    "    # categories = [li.text.lower() for li in soup.select('li')][1:]\n",
    "    # categories[0] = 'national'\n",
    "    \n",
    "    articles = []\n",
    "    \n",
    "    for category in categories:\n",
    "        \n",
    "        url = 'https://inshorts.com/en/read' + '/' + category\n",
    "        response = requests.get(url)\n",
    "        news_soup = BeautifulSoup(response.content, 'html.parser')\n",
    "        \n",
    "        title_text = [span.text for span in news_soup.find_all('span', itemprop = 'headline')]\n",
    "        content_text = [div.text for div in news_soup.find_all('div', itemprop='articleBody')]\n",
    "        \n",
    "        article_dict = {'title':title_text,\n",
    "                       'content':content_text,\n",
    "                       'category':category}\n",
    "        \n",
    "        articles.append(article_dict)\n",
    "        \n",
    "        news_article_df = pd.DataFrame(articles)\n",
    "        \n",
    "    return news_article_df\n"
   ]
  },
  {
   "cell_type": "code",
   "execution_count": 21,
   "id": "79be3993",
   "metadata": {},
   "outputs": [
    {
     "data": {
      "text/html": [
       "<div>\n",
       "<style scoped>\n",
       "    .dataframe tbody tr th:only-of-type {\n",
       "        vertical-align: middle;\n",
       "    }\n",
       "\n",
       "    .dataframe tbody tr th {\n",
       "        vertical-align: top;\n",
       "    }\n",
       "\n",
       "    .dataframe thead th {\n",
       "        text-align: right;\n",
       "    }\n",
       "</style>\n",
       "<table border=\"1\" class=\"dataframe\">\n",
       "  <thead>\n",
       "    <tr style=\"text-align: right;\">\n",
       "      <th></th>\n",
       "      <th>title</th>\n",
       "      <th>content</th>\n",
       "      <th>category</th>\n",
       "    </tr>\n",
       "  </thead>\n",
       "  <tbody>\n",
       "    <tr>\n",
       "      <th>0</th>\n",
       "      <td>[Drunk man smoked in toilet, another peed on w...</td>\n",
       "      <td>[A drunk passenger smoked in the toilet on a P...</td>\n",
       "      <td>business</td>\n",
       "    </tr>\n",
       "    <tr>\n",
       "      <th>1</th>\n",
       "      <td>[Ronaldo to make his debut in Saudi playing fo...</td>\n",
       "      <td>[Al-Nassr forward Cristiano Ronaldo will repor...</td>\n",
       "      <td>sports</td>\n",
       "    </tr>\n",
       "    <tr>\n",
       "      <th>2</th>\n",
       "      <td>[6-min flight shortest by Musk's private jet i...</td>\n",
       "      <td>[Elon Musk's private jet took 134 flights in 2...</td>\n",
       "      <td>technology</td>\n",
       "    </tr>\n",
       "    <tr>\n",
       "      <th>3</th>\n",
       "      <td>[Old pics of Shah Rukh Khan and Angelina Jolie...</td>\n",
       "      <td>[Old pictures of actors Shah Rukh Khan and Ang...</td>\n",
       "      <td>entertainment</td>\n",
       "    </tr>\n",
       "  </tbody>\n",
       "</table>\n",
       "</div>"
      ],
      "text/plain": [
       "                                               title  \\\n",
       "0  [Drunk man smoked in toilet, another peed on w...   \n",
       "1  [Ronaldo to make his debut in Saudi playing fo...   \n",
       "2  [6-min flight shortest by Musk's private jet i...   \n",
       "3  [Old pics of Shah Rukh Khan and Angelina Jolie...   \n",
       "\n",
       "                                             content       category  \n",
       "0  [A drunk passenger smoked in the toilet on a P...       business  \n",
       "1  [Al-Nassr forward Cristiano Ronaldo will repor...         sports  \n",
       "2  [Elon Musk's private jet took 134 flights in 2...     technology  \n",
       "3  [Old pictures of actors Shah Rukh Khan and Ang...  entertainment  "
      ]
     },
     "execution_count": 21,
     "metadata": {},
     "output_type": "execute_result"
    }
   ],
   "source": [
    "get_news_articles()"
   ]
  },
  {
   "cell_type": "code",
   "execution_count": null,
   "id": "899c2142",
   "metadata": {},
   "outputs": [],
   "source": []
  }
 ],
 "metadata": {
  "kernelspec": {
   "display_name": "Python 3 (ipykernel)",
   "language": "python",
   "name": "python3"
  },
  "language_info": {
   "codemirror_mode": {
    "name": "ipython",
    "version": 3
   },
   "file_extension": ".py",
   "mimetype": "text/x-python",
   "name": "python",
   "nbconvert_exporter": "python",
   "pygments_lexer": "ipython3",
   "version": "3.9.12"
  }
 },
 "nbformat": 4,
 "nbformat_minor": 5
}
