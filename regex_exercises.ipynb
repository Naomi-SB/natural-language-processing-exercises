{
 "cells": [
  {
   "cell_type": "code",
   "execution_count": 1,
   "id": "89d11aed",
   "metadata": {},
   "outputs": [],
   "source": [
    "import pandas as pd\n",
    "import re"
   ]
  },
  {
   "cell_type": "markdown",
   "id": "03f4c10e",
   "metadata": {},
   "source": [
    "## 1. Write a function named is_vowel. It should accept a string as input and use a regular expression to determine if the passed string is a vowel. \n",
    "#### While not explicity mentioned in the lesson, you can treat the result of re.search as a boolean value that indicates whether or not the regular expression matches the given string."
   ]
  },
  {
   "cell_type": "code",
   "execution_count": 33,
   "id": "3620c58c",
   "metadata": {},
   "outputs": [],
   "source": [
    "def is_vowel(string):\n",
    "    matches = bool(re.search(r'a|e|i|o|u', string)) \n",
    "    return matches"
   ]
  },
  {
   "cell_type": "code",
   "execution_count": 104,
   "id": "09c68ae4",
   "metadata": {},
   "outputs": [
    {
     "data": {
      "text/plain": [
       "True"
      ]
     },
     "execution_count": 104,
     "metadata": {},
     "output_type": "execute_result"
    }
   ],
   "source": [
    "is_vowel('aeio')"
   ]
  },
  {
   "cell_type": "code",
   "execution_count": 35,
   "id": "0ea9dbc0",
   "metadata": {},
   "outputs": [
    {
     "data": {
      "text/plain": [
       "False"
      ]
     },
     "execution_count": 35,
     "metadata": {},
     "output_type": "execute_result"
    }
   ],
   "source": [
    "is_vowel('b')"
   ]
  },
  {
   "cell_type": "code",
   "execution_count": 105,
   "id": "efee5ac6",
   "metadata": {},
   "outputs": [],
   "source": [
    "def is_vowel_Ryan(string):\n",
    "    vowel_re = r'^[aeiouAEIOU]{1}$'\n",
    "    return bool(re.search(vowel_re, string))"
   ]
  },
  {
   "cell_type": "code",
   "execution_count": 108,
   "id": "88b9de55",
   "metadata": {},
   "outputs": [
    {
     "data": {
      "text/plain": [
       "False"
      ]
     },
     "execution_count": 108,
     "metadata": {},
     "output_type": "execute_result"
    }
   ],
   "source": [
    "is_vowel_Ryan('AA')"
   ]
  },
  {
   "cell_type": "markdown",
   "id": "067de6a8",
   "metadata": {},
   "source": [
    "### *one is complete, but i need to make it better"
   ]
  },
  {
   "cell_type": "markdown",
   "id": "858f0be5",
   "metadata": {},
   "source": [
    "## 2. Write a function named is_valid_username that accepts a string as input. A valid username starts with a lowercase letter, and only consists of lowercase letters, numbers, or the _ character. It should also be no longer than 32 characters. The function should return either True or False depending on whether the passed string is a valid username."
   ]
  },
  {
   "cell_type": "code",
   "execution_count": 48,
   "id": "29aaeef4",
   "metadata": {},
   "outputs": [],
   "source": [
    "def is_valid_username(string):\n",
    "    acceptable = bool(re.search(r'[a-z][0-9_]{1,32}', string))\n",
    "    return acceptable "
   ]
  },
  {
   "cell_type": "code",
   "execution_count": 49,
   "id": "83484585",
   "metadata": {},
   "outputs": [
    {
     "data": {
      "text/plain": [
       "True"
      ]
     },
     "execution_count": 49,
     "metadata": {},
     "output_type": "execute_result"
    }
   ],
   "source": [
    "is_valid_username('a453')"
   ]
  },
  {
   "cell_type": "code",
   "execution_count": 50,
   "id": "658ef05c",
   "metadata": {},
   "outputs": [
    {
     "data": {
      "text/plain": [
       "False"
      ]
     },
     "execution_count": 50,
     "metadata": {},
     "output_type": "execute_result"
    }
   ],
   "source": [
    "is_valid_username('YooHoo')"
   ]
  },
  {
   "cell_type": "code",
   "execution_count": 51,
   "id": "ec2a21aa",
   "metadata": {},
   "outputs": [
    {
     "data": {
      "text/plain": [
       "False"
      ]
     },
     "execution_count": 51,
     "metadata": {},
     "output_type": "execute_result"
    }
   ],
   "source": [
    "is_valid_username('iloveyou!')"
   ]
  },
  {
   "cell_type": "code",
   "execution_count": 52,
   "id": "3b78f35f",
   "metadata": {},
   "outputs": [
    {
     "data": {
      "text/plain": [
       "False"
      ]
     },
     "execution_count": 52,
     "metadata": {},
     "output_type": "execute_result"
    }
   ],
   "source": [
    "is_valid_username('onetwothreeonetwothreefour')"
   ]
  },
  {
   "cell_type": "markdown",
   "id": "2cd12d43",
   "metadata": {},
   "source": [
    "## 3. Write a regular expression to capture phone numbers. It should match all of the following:\n",
    "* (210) 867 5309\n",
    "* +1 210.867.5309\n",
    "* 867-5309\n",
    "* 210-867-5309"
   ]
  },
  {
   "cell_type": "code",
   "execution_count": 62,
   "id": "6339284c",
   "metadata": {},
   "outputs": [],
   "source": [
    "string1 = '(210) 867 5309'\n",
    "string2 = '+1 210.867.5309'\n",
    "string3 = '867-5309'\n",
    "string4 = '210-867-5309'\n",
    "string5 = 'Test for false return'"
   ]
  },
  {
   "cell_type": "code",
   "execution_count": null,
   "id": "f47502df",
   "metadata": {},
   "outputs": [],
   "source": [
    "#either open parentheses or plus maybe\n",
    "#     ([(+1]?)\n",
    "# or\n",
    "#     (|+1?)"
   ]
  },
  {
   "cell_type": "code",
   "execution_count": null,
   "id": "6026f095",
   "metadata": {},
   "outputs": [],
   "source": [
    "#three digit characters maybe for the area code\n",
    "#.   (\\d\\d\\d)\n",
    "# or\n",
    "#.    \\d{3}"
   ]
  },
  {
   "cell_type": "code",
   "execution_count": null,
   "id": "c72b3cbe",
   "metadata": {},
   "outputs": [],
   "source": [
    "#either space or hyphen or dot\n",
    "#.   ([ -.])\n",
    "# or\n",
    "#.   (-| |.?)"
   ]
  },
  {
   "cell_type": "code",
   "execution_count": null,
   "id": "9f32422c",
   "metadata": {},
   "outputs": [],
   "source": [
    "# three digit characters for the first three\n",
    "#.  (\\d\\d\\d)\n",
    "# or \n",
    "#.   \\d{3}"
   ]
  },
  {
   "cell_type": "code",
   "execution_count": null,
   "id": "b7a83ca3",
   "metadata": {},
   "outputs": [],
   "source": [
    "# four digit characters for the final four\n",
    "#.  (\\d\\d\\d\\d)\n",
    "# or\n",
    "#.  \\d{4}"
   ]
  },
  {
   "cell_type": "code",
   "execution_count": 80,
   "id": "7384687e",
   "metadata": {},
   "outputs": [
    {
     "data": {
      "text/plain": [
       "True"
      ]
     },
     "execution_count": 80,
     "metadata": {},
     "output_type": "execute_result"
    }
   ],
   "source": [
    "bool(re.search(r'.+(\\d{3})([-|.|s])(\\d{3})([-\\.\\s])(\\d{4})|\\(\\d{3}\\)(\\s*\\d{3})([-\\.\\s])(\\d{4})|(\\d{3})([-\\.\\s])(\\d{4})', string1))\n",
    "\n",
    "\n"
   ]
  },
  {
   "cell_type": "code",
   "execution_count": 81,
   "id": "f693ea9f",
   "metadata": {},
   "outputs": [
    {
     "data": {
      "text/plain": [
       "True"
      ]
     },
     "execution_count": 81,
     "metadata": {},
     "output_type": "execute_result"
    }
   ],
   "source": [
    "bool(re.search(r'.+(\\d{3})([-|.|s])(\\d{3})([-\\.\\s])(\\d{4})|\\(\\d{3}\\)(\\s*\\d{3})([-\\.\\s])(\\d{4})|(\\d{3})([-\\.\\s])(\\d{4})', string2))\n",
    "\n"
   ]
  },
  {
   "cell_type": "code",
   "execution_count": 58,
   "id": "2183c421",
   "metadata": {},
   "outputs": [
    {
     "data": {
      "text/plain": [
       "True"
      ]
     },
     "execution_count": 58,
     "metadata": {},
     "output_type": "execute_result"
    }
   ],
   "source": [
    "bool(re.search(r'.+(\\d{3})([-|.|s])(\\d{3})([-\\.\\s])(\\d{4})|\\(\\d{3}\\)(\\s*\\d{3})([-\\.\\s])(\\d{4})|(\\d{3})([-\\.\\s])(\\d{4})', string3))\n",
    "\n"
   ]
  },
  {
   "cell_type": "code",
   "execution_count": 82,
   "id": "1c0b8213",
   "metadata": {},
   "outputs": [
    {
     "data": {
      "text/plain": [
       "True"
      ]
     },
     "execution_count": 82,
     "metadata": {},
     "output_type": "execute_result"
    }
   ],
   "source": [
    "bool(re.search(r'.+(\\d{3})([-|.|s])(\\d{3})([-\\.\\s])(\\d{4})|\\(\\d{3}\\)(\\s*\\d{3})([-\\.\\s])(\\d{4})|(\\d{3})([-\\.\\s])(\\d{4})', string4))\n",
    "\n"
   ]
  },
  {
   "cell_type": "code",
   "execution_count": 83,
   "id": "47a17222",
   "metadata": {},
   "outputs": [
    {
     "data": {
      "text/plain": [
       "False"
      ]
     },
     "execution_count": 83,
     "metadata": {},
     "output_type": "execute_result"
    }
   ],
   "source": [
    "bool(re.search(r'.+(\\d{3})([-|.|s])(\\d{3})([-\\.\\s])(\\d{4})|\\(\\d{3}\\)(\\s*\\d{3})([-\\.\\s])(\\d{4})|(\\d{3})([-\\.\\s])(\\d{4})', string5))\n",
    "\n"
   ]
  },
  {
   "cell_type": "markdown",
   "id": "19cc8b49",
   "metadata": {},
   "source": [
    "## 4. Use regular expressions to convert the dates below to the standardized year-month-day format.\n",
    "* 02/04/19\n",
    "* 02/05/19\n",
    "* 02/06/19\n",
    "* 02/07/19\n",
    "* 02/08/19\n",
    "* 02/09/19\n",
    "* 02/10/19\n",
    "### to 2019-11-02"
   ]
  },
  {
   "cell_type": "code",
   "execution_count": 101,
   "id": "9f81c867",
   "metadata": {},
   "outputs": [],
   "source": [
    "# flip\n",
    "# sub - for /\n",
    "# add 20 before every 19"
   ]
  },
  {
   "cell_type": "code",
   "execution_count": 102,
   "id": "7e253fca",
   "metadata": {},
   "outputs": [],
   "source": [
    "date = '02/11/19'\n"
   ]
  },
  {
   "cell_type": "code",
   "execution_count": 103,
   "id": "4d2c1349",
   "metadata": {},
   "outputs": [
    {
     "data": {
      "text/plain": [
       "'2019-02-11'"
      ]
     },
     "execution_count": 103,
     "metadata": {},
     "output_type": "execute_result"
    }
   ],
   "source": [
    "re.sub(r'(\\d\\d)/(\\d\\d)/(\\d\\d)', r'20\\3-\\1-\\2', date)\n"
   ]
  },
  {
   "cell_type": "code",
   "execution_count": null,
   "id": "940e6d2c",
   "metadata": {},
   "outputs": [],
   "source": [
    "date_list = "
   ]
  },
  {
   "cell_type": "code",
   "execution_count": null,
   "id": "57c13a3e",
   "metadata": {},
   "outputs": [],
   "source": [
    "dates = pd.Series(date_list)"
   ]
  },
  {
   "cell_type": "code",
   "execution_count": null,
   "id": "ae8d3b24",
   "metadata": {},
   "outputs": [],
   "source": [
    "dates.str.replace(r'(\\d{2})/(\\d{2})/(\\d{2})', r'20/3-/1-/2', regex=True)"
   ]
  },
  {
   "cell_type": "code",
   "execution_count": null,
   "id": "35de65a3",
   "metadata": {},
   "outputs": [],
   "source": []
  },
  {
   "cell_type": "code",
   "execution_count": null,
   "id": "3dc2463c",
   "metadata": {},
   "outputs": [],
   "source": []
  },
  {
   "cell_type": "code",
   "execution_count": null,
   "id": "764d758b",
   "metadata": {},
   "outputs": [],
   "source": []
  },
  {
   "cell_type": "markdown",
   "id": "c7c4d01a",
   "metadata": {},
   "source": [
    "## 5. Write a regex to extract the various parts of these logfile lines:\n",
    "* GET /api/v1/sales?page=86 [16/Apr/2019:193452+0000] HTTP/1.1 {200} 510348 \"python-requests/2.21.0\" 97.105.19.58\n",
    "\n",
    "* POST /users_accounts/file-upload [16/Apr/2019:193452+0000] HTTP/1.1 {201} 42 \"User-Agent: Mozilla/5.0 (X11; Fedora; Fedora; Linux x86_64) AppleWebKit/537.36 (KHTML, like Gecko) Chrome/73.0.3683.86 Safari/537.36\" 97.105.19.58\n",
    "\n",
    "* GET /api/v1/items?page=3 [16/Apr/2019:193453+0000] HTTP/1.1 {429} 3561 \"python-requests/2.21.0\" 97.105.19.58\n"
   ]
  },
  {
   "cell_type": "code",
   "execution_count": 116,
   "id": "5c60a984",
   "metadata": {},
   "outputs": [
    {
     "data": {
      "text/html": [
       "<div>\n",
       "<style scoped>\n",
       "    .dataframe tbody tr th:only-of-type {\n",
       "        vertical-align: middle;\n",
       "    }\n",
       "\n",
       "    .dataframe tbody tr th {\n",
       "        vertical-align: top;\n",
       "    }\n",
       "\n",
       "    .dataframe thead th {\n",
       "        text-align: right;\n",
       "    }\n",
       "</style>\n",
       "<table border=\"1\" class=\"dataframe\">\n",
       "  <thead>\n",
       "    <tr style=\"text-align: right;\">\n",
       "      <th></th>\n",
       "      <th>method</th>\n",
       "      <th>path</th>\n",
       "      <th>timestamp</th>\n",
       "      <th>http_version</th>\n",
       "      <th>status</th>\n",
       "      <th>bytes</th>\n",
       "      <th>user_agent</th>\n",
       "      <th>ip</th>\n",
       "    </tr>\n",
       "  </thead>\n",
       "  <tbody>\n",
       "    <tr>\n",
       "      <th>0</th>\n",
       "      <td>GET</td>\n",
       "      <td>/api/v1/sales?page=86</td>\n",
       "      <td>16/Apr/2019:193452+0000</td>\n",
       "      <td>HTTP/1.1</td>\n",
       "      <td>200</td>\n",
       "      <td>510348</td>\n",
       "      <td>python-requests/2.21.0</td>\n",
       "      <td>97.105.19.58</td>\n",
       "    </tr>\n",
       "    <tr>\n",
       "      <th>1</th>\n",
       "      <td>POST</td>\n",
       "      <td>/users_accounts/file-upload</td>\n",
       "      <td>16/Apr/2019:193452+0000</td>\n",
       "      <td>HTTP/1.1</td>\n",
       "      <td>201</td>\n",
       "      <td>42</td>\n",
       "      <td>User-Agent: Mozilla/5.0 (X11; Fedora; Fedora; ...</td>\n",
       "      <td>97.105.19.58</td>\n",
       "    </tr>\n",
       "    <tr>\n",
       "      <th>2</th>\n",
       "      <td>GET</td>\n",
       "      <td>/api/v1/items?page=3</td>\n",
       "      <td>16/Apr/2019:193453+0000</td>\n",
       "      <td>HTTP/1.1</td>\n",
       "      <td>429</td>\n",
       "      <td>3561</td>\n",
       "      <td>python-requests/2.21.0</td>\n",
       "      <td>97.105.19.58])</td>\n",
       "    </tr>\n",
       "  </tbody>\n",
       "</table>\n",
       "</div>"
      ],
      "text/plain": [
       "  method                         path                timestamp http_version  \\\n",
       "0    GET        /api/v1/sales?page=86  16/Apr/2019:193452+0000     HTTP/1.1   \n",
       "1   POST  /users_accounts/file-upload  16/Apr/2019:193452+0000     HTTP/1.1   \n",
       "2    GET         /api/v1/items?page=3  16/Apr/2019:193453+0000     HTTP/1.1   \n",
       "\n",
       "  status   bytes                                         user_agent  \\\n",
       "0    200  510348                             python-requests/2.21.0   \n",
       "1    201      42  User-Agent: Mozilla/5.0 (X11; Fedora; Fedora; ...   \n",
       "2    429    3561                             python-requests/2.21.0   \n",
       "\n",
       "               ip  \n",
       "0    97.105.19.58  \n",
       "1    97.105.19.58  \n",
       "2  97.105.19.58])  "
      ]
     },
     "execution_count": 116,
     "metadata": {},
     "output_type": "execute_result"
    }
   ],
   "source": [
    "logfile_re = r'''\n",
    "^(?P<method>GET|POST)\n",
    "\\s+\n",
    "(?P<path>.*?)\n",
    "\\s+\n",
    "\\[(?P<timestamp>.*?)\\]\n",
    "\\s+\n",
    "(?P<http_version>.*?)\n",
    "\\s+\n",
    "\\{(?P<status>\\d+)\\}\n",
    "\\s+\n",
    "(?P<bytes>\\d+)\n",
    "\\s+\n",
    "\"(?P<user_agent>.*)\"\n",
    "\\s+\n",
    "(?P<ip>.*)$\n",
    "'''\n",
    "\n",
    "lines = pd.Series([\n",
    "    'GET /api/v1/sales?page=86 [16/Apr/2019:193452+0000] HTTP/1.1 {200} 510348 \"python-requests/2.21.0\" 97.105.19.58',\n",
    "    'POST /users_accounts/file-upload [16/Apr/2019:193452+0000] HTTP/1.1 {201} 42 \"User-Agent: Mozilla/5.0 (X11; Fedora; Fedora; Linux x86_64) AppleWebKit/537.36 (KHTML, like Gecko) Chrome/73.0.3683.86 Safari/537.36\" 97.105.19.58',\n",
    "    'GET /api/v1/items?page=3 [16/Apr/2019:193453+0000] HTTP/1.1 {429} 3561 \"python-requests/2.21.0\" 97.105.19.58])'\n",
    "])\n",
    "    \n",
    "lines.str.extract(logfile_re,re.VERBOSE)    "
   ]
  },
  {
   "cell_type": "code",
   "execution_count": null,
   "id": "cac24cf2",
   "metadata": {},
   "outputs": [],
   "source": []
  }
 ],
 "metadata": {
  "kernelspec": {
   "display_name": "Python 3 (ipykernel)",
   "language": "python",
   "name": "python3"
  },
  "language_info": {
   "codemirror_mode": {
    "name": "ipython",
    "version": 3
   },
   "file_extension": ".py",
   "mimetype": "text/x-python",
   "name": "python",
   "nbconvert_exporter": "python",
   "pygments_lexer": "ipython3",
   "version": "3.9.12"
  }
 },
 "nbformat": 4,
 "nbformat_minor": 5
}
